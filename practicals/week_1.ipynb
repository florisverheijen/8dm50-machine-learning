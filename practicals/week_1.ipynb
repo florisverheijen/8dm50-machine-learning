{
 "cells": [
  {
   "cell_type": "markdown",
   "metadata": {},
   "source": [
    "# Getting started with the practicals\n",
    "\n",
    "***These notebooks are best viewed in Jupyter. GitHub might not display all content of the notebook properly.***\n",
    "\n",
    "## Goal of the practical exercises\n",
    "\n",
    "The exercises have two goals:\n",
    "\n",
    "1. Give you the opportunity to obtain 'hands-on' experience in implementing, training and evaluation machine learning models in Python. This experience will also help you better understand the theory covered during the lectures. \n",
    "\n",
    "2. Occasionally demonstrate some 'exam-style' questions that you can use as a reference when studying for the exam. Note however that the example questions are (as the name suggests) only examples and do not constitute a complete and sufficient list of 'things that you have to learn for the exam'. You can recognize example questions as (parts of) exercises by <font color=\"#770a0a\">this font color</font>.\n",
    "\n",
    "For each set of exercises (one Python notebook such as this one $==$ one set of exercises) you have to submit deliverables that will then be graded and constitute 25% of the final grade. Thus, the work that you do during the practicals has double contribution towards the final grade: as 25% direct contribution and as a preparation for the exam that will define the other 65% of the grade.\n",
    "\n",
    "## Deliverables\n",
    "\n",
    "For each set of exercises, you have to submit:\n",
    "1. Python functions and/or classes (`.py` files) that implement basic functionalities (e.g. a $k$-NN classifier) and \n",
    "2. A *single* Python notebook that contains the experiments, visualization and answer to the questions and math problems. *Do not submit your answers as Word or PDF documents (they will not be graded)*. The submitted code and notebook should run without errors and be able to fully reproduce the reported results.\n",
    "\n",
    "We recommend that you clone the provided notebooks (such as this one) and write your code in them. The following rubric will be used when grading the practical work:\n",
    "\n",
    "Component  | Insufficient | Satisfactory | Excellent\n",
    "--- | --- | --- | ---\n",
    "**Code** | Missing or incomplete code structure, runs with errors, lacks documentation | Self-contained, does not result in errors, contains some documentation, can be easily used to reproduce the reported results | User-friendly, well-structured (good separation of general functionality and experiments, i.e. between `.py` files and the Pyhthon notebook), detailed documentation, optimized for speed, use of a version control system (such as GitHub)\n",
    "**Answers to questions** | Incorrect, does not convey understanding of the material, appears to be copied from another source | Correct, conveys good understanding of the material, description in own words | Correct, conveys excellent level of understanding, makes connections between topics\n",
    "\n",
    "## A word on notation\n",
    "\n",
    "When we refer to Python variables, we will use a monospace font. For example, `X` is a Python variable that contains the data matrix. When we refer to mathematical variables, we will use the de-facto standard notation: $a$ or $\\lambda$ is a scalar variable, $\\boldsymbol{\\mathrm{w}}$ is a vector and $\\boldsymbol{\\mathrm{X}}$ is a matrix (e.g. a data matrix from the example above). You should use the same notation when writing your answers and solutions.\n",
    "\n",
    "# Two simple machine learning models\n",
    "\n",
    "## Preliminaries\n",
    "\n",
    "Throughout the practical curriculum of this course, we will use the Python programming language and its ecosystem of libraries for scientific computing (such as `numpy`, `scipy`, `matplotlib`, `scikit-learn` etc). The practicals for the deep learning part of the course will use the `keras` deep learning framework. If you are not sufficiently familiar with this programming language and/or the listed libraries and packages, you are strongly advised to go over the corresponding tutorials from the ['Essential skills'](https://github.com/tueimage/essential-skills) module (the `scikit-learn` library is not covered by the tutorial, however, an extensive documentation is available [here](https://scikit-learn.org/stable/documentation.html).\n",
    "\n",
    "In this first set of exercises, we will use two toy datasets that ship together with `scikit-learn`. \n",
    "\n",
    "The first dataset is named `diabetes` and contains 442 patients described with 10 features: age, sex, body mass index, average blood pressure, and six blood serum measurements. The target variable is a continuous quantitative measure of the disease (diabetes) progression one year after the baseline measurements were recorded. More information is available [here](https://github.com/scikit-learn/scikit-learn/blob/master/sklearn/datasets/descr/diabetes.rst) and [here](https://www4.stat.ncsu.edu/~boos/var.select/diabetes.html).\n",
    "\n",
    "The second dataset is named `breast_cancer` and is a copy of the UCI ML Breast Cancer Wisconsin (Diagnostic) datasets (more infortmation is available [here](https://github.com/scikit-learn/scikit-learn/blob/master/sklearn/datasets/descr/breast_cancer.rst) and [here](https://archive.ics.uci.edu/ml/datasets/Breast+Cancer+Wisconsin+(Diagnostic)). The datasets contains of 569 instances represented with 30 features that are computed from a images of a fine needle aspirate of a breast mass. The features describe characteristics of the cell nuclei present in the image. Each instance is associated with a binary target variable ('malignant' or 'benign'). \n",
    "\n",
    "You can load the two datasets in the following way:"
   ]
  },
  {
   "cell_type": "code",
   "execution_count": null,
   "metadata": {},
   "outputs": [],
   "source": [
    "import numpy as np\n",
    "from sklearn.datasets import load_diabetes, load_breast_cancer\n",
    "\n",
    "diabetes = load_diabetes()\n",
    "\n",
    "breast_cancer = load_breast_cancer()\n"
   ]
  },
  {
   "cell_type": "markdown",
   "metadata": {},
   "source": [
    "In the majority of the exercises in this course, we will use higher-level libraries and packages such as `scikit-learn` and `keras` to implement, train and evaluate machine learning models. However, the goal of this first set of exercises is to illustrate basic mathematical tools and machine learning concepts. Because of this, we will impose a restriction of only using basic `numpy` functionality. Furthermore, you should as much as possible restrict the use of for-loops (e.g. use a vector-to-matrix product instead of a for loop when appropriate).\n",
    "\n",
    "If `X` is a 2D data matrix, we will use the convention that the rows of the matrix contain the samples (or instances) and the columns contain the features (inputs to the model). That means that a data matrix with a shape `(122, 13)` represents a dataset with 122 samples, each represented with 13 features. Similarly, if `Y` is a 2D matrix containing the targets, the rows correspond to the samples and the columns to the different targets (outputs of the model). Thus, if the shape of `Y` is `(122, 3)` that means that there are 122 samples and each sample is has 3 targets (note that in the majority of the examples we will only have a single target and thus the number of columns of `Y` will be 1).\n",
    "\n",
    "You can obtain the data and target matrices from the two datasets in the following way:"
   ]
  },
  {
   "cell_type": "code",
   "execution_count": null,
   "metadata": {},
   "outputs": [],
   "source": [
    "X = diabetes.data\n",
    "Y = diabetes.target[:, np.newaxis]\n",
    "\n",
    "print(X.shape)\n",
    "print(Y.shape)"
   ]
  },
  {
   "cell_type": "markdown",
   "metadata": {},
   "source": [
    "If you want to only use a subset of the available features, you can obtain a reduced data matrix in the following way:"
   ]
  },
  {
   "cell_type": "code",
   "execution_count": null,
   "metadata": {
    "scrolled": true
   },
   "outputs": [],
   "source": [
    "# use only the fourth feature\n",
    "X = diabetes.data[:, np.newaxis, 3]\n",
    "print(X.shape)\n",
    "\n",
    "# use the third, and tenth features\n",
    "X = diabetes.data[:, (3,9)]\n",
    "print(X.shape)"
   ]
  },
  {
   "cell_type": "markdown",
   "metadata": {},
   "source": [
    "***Question***: Why we need to use the `np.newaxis` expression in the examples above?\n",
    "\n",
    "***Answer***: Otherwise, X will have a shape of (442,) so there is no second dimension. It will then not be possible to compare X to another array, for example when calculating the mean squared error. `np.newaxis` increases the dimension by one to solve this problem. \n",
    "\n",
    "\n",
    "\n",
    "Note that in all your experiments in the exercises, you should use and independent training and testing sets. You can split the dataset into a training and testing subsets in the following way:"
   ]
  },
  {
   "cell_type": "code",
   "execution_count": null,
   "metadata": {},
   "outputs": [],
   "source": [
    "# use the fourth feature\n",
    "# use the first 300 training samples for training, and the rest for testing\n",
    "X_train = diabetes.data[:300, np.newaxis, 3]\n",
    "y_train = diabetes.target[:300, np.newaxis]\n",
    "X_test = diabetes.data[300:, np.newaxis, 3]\n",
    "y_test = diabetes.target[300:, np.newaxis]\n",
    "print(X_train.shape)\n",
    "print(y_train.shape)\n",
    "print(X_test.shape)\n",
    "print(y_test.shape)"
   ]
  },
  {
   "cell_type": "markdown",
   "metadata": {},
   "source": [
    "## Exercises\n",
    "\n",
    "### Linear regression\n",
    "\n",
    "Implement training and evaluation of a linear regression model on the diabetes dataset using only matrix multiplication, inversion and transpose operations. Report the mean squared error of the model.\n",
    "\n",
    "To get you started we have implemented the first part of this exercise (fitting of the model) as an example."
   ]
  },
  {
   "cell_type": "code",
   "execution_count": null,
   "metadata": {},
   "outputs": [],
   "source": [
    "# add subfolder that contains all the function implementations\n",
    "# to the system path so we can import them\n",
    "import sys\n",
    "sys.path.append('code/')\n",
    "\n",
    "# the actual implementation is in linear_regression.py,\n",
    "# here we will just use it to fit a model\n",
    "from linear_regression import *\n",
    "\n",
    "# load the dataset\n",
    "# same as before, but now we use all features\n",
    "X_train = diabetes.data[:300, :]\n",
    "y_train = diabetes.target[:300, np.newaxis]\n",
    "X_test = diabetes.data[300:, :]\n",
    "y_test = diabetes.target[300:, np.newaxis]\n",
    "\n",
    "beta = lsq(X_train, y_train)\n",
    "\n",
    "# print the parameters\n",
    "print(beta)"
   ]
  },
  {
   "cell_type": "code",
   "execution_count": null,
   "metadata": {},
   "outputs": [],
   "source": [
    "## QUESTION: Report the mean squared error of the model\n",
    "import numpy as np\n",
    "from performance import *\n",
    "\n",
    "y_pred = ( beta[0] + np.dot(beta[1:].T,X_test.T) ).T\n",
    "\n",
    "# The mean squared error\n",
    "print('Mean squared error: %.2f'\n",
    "      % mse(y_test, y_pred))"
   ]
  },
  {
   "cell_type": "markdown",
   "metadata": {},
   "source": [
    "### Weighted linear regression\n",
    "\n",
    "Assume that in the dataset that you use to train a linear regression model, there are identical versions of some samples. This problem can be reformulated to a weighted linear regression problem where the matrices $\\boldsymbol{\\mathrm{X}}$ and $\\boldsymbol{\\mathrm{Y}}$ (or the vector $\\boldsymbol{\\mathrm{y}}$ if there is only a single target/output variable) contain only the unique data samples, and a vector $\\boldsymbol{\\mathrm{d}}$ is introduced that gives more weight to samples that appear multiple times in the original dataset (for example, the sample that appears 3 times has a corresponding weight of 3). \n",
    "\n",
    "<p><font color='#770a0a'>Derive the expression for the least-squares solution of a weighted linear regression model (note that in addition to the matrices $\\boldsymbol{\\mathrm{X}}$ and $\\boldsymbol{\\mathrm{Y}}$, the solution should include a vector of weights $\\boldsymbol{\\mathrm{d}}$).</font></p>\n",
    "\n",
    "***Answer***:\n",
    "<br>\n",
    "$RSS(\\boldsymbol{\\mathrm{w}}) = \\sum\\limits_{i=1}^{N} (\\boldsymbol{\\mathrm{Y}}_i - \\boldsymbol{\\mathrm{X}}_i^T \\boldsymbol{\\mathrm{w}})^2$\n",
    "<br>\n",
    "Now with weights $\\boldsymbol{\\mathrm{d}}$: $WSS(\\boldsymbol{\\mathrm{w}},\\boldsymbol{\\mathrm{d}}) = \\sum\\limits_{i=1}^{N} \\boldsymbol{\\mathrm{d}}_i (\\boldsymbol{\\mathrm{Y}}_i - \\boldsymbol{\\mathrm{X}}_i^T \\boldsymbol{\\mathrm{w}})^2$, which can be rewritten as $WSS(\\boldsymbol{\\mathrm{w}},\\boldsymbol{\\mathrm{d}}) = (\\boldsymbol{\\mathrm{Y}} - \\boldsymbol{\\mathrm{X}} \\boldsymbol{\\mathrm{w}})^T \\boldsymbol{\\mathrm{d}} (\\boldsymbol{\\mathrm{Y}} - \\boldsymbol{\\mathrm{X}} \\boldsymbol{\\mathrm{w}})$, where $\\boldsymbol{\\mathrm{d}}$ a matrix with all $\\mathrm{d}_i$ on the diagonal and zeros everywhere else. \n",
    "\n",
    "To find the least-squares error, we first have to differentiate the solution with respect to $\\mathrm{w}$:\n",
    "$\\frac{\\partial}{\\partial \\boldsymbol{\\mathrm{w}}} WSS(\\boldsymbol{\\mathrm{w}},\\boldsymbol{\\mathrm{d}}) = -\\boldsymbol{\\mathrm{X}}^T \\boldsymbol{\\mathrm{d}}(\\boldsymbol{\\mathrm{Y}}-\\boldsymbol{\\mathrm{X}}\\boldsymbol{\\mathrm{w}})+(\\boldsymbol{\\mathrm{Y}}-\\boldsymbol{\\mathrm{X}}\\boldsymbol{\\mathrm{w}})^T\\boldsymbol{\\mathrm{d}}(-\\boldsymbol{\\mathrm{X}})$\n",
    "\n",
    "If we use $(\\boldsymbol{\\mathrm{A}}\\boldsymbol{\\mathrm{B}}\\boldsymbol{\\mathrm{C}})^T = \\boldsymbol{\\mathrm{C}}^T \\boldsymbol{\\mathrm{B}}^T \\boldsymbol{\\mathrm{A}}^T$ and $(\\mathrm{a} \\cdot \\boldsymbol{\\mathrm{I}})^T = \\mathrm{a} \\boldsymbol{\\mathrm{I}}$ because it is a diagonal, the second part of the derivative can be written as:<br>\n",
    "$(\\boldsymbol{\\mathrm{Y}}-\\boldsymbol{\\mathrm{X}}\\boldsymbol{\\mathrm{w}})^T\\boldsymbol{\\mathrm{d}}(-\\boldsymbol{\\mathrm{X}}) = -\\boldsymbol{\\mathrm{X}}^T \\boldsymbol{\\mathrm{d}}(\\boldsymbol{\\mathrm{Y}}-\\boldsymbol{\\mathrm{X}}\\boldsymbol{\\mathrm{w}})$\n",
    "such that the whole derivative becomes: $\\frac{\\partial}{\\partial \\boldsymbol{\\mathrm{w}}} WSS(\\boldsymbol{\\mathrm{w}},\\boldsymbol{\\mathrm{d}}) = - 2 \\boldsymbol{\\mathrm{X}}^T \\boldsymbol{\\mathrm{d}}(\\boldsymbol{\\mathrm{Y}}-\\boldsymbol{\\mathrm{X}}\\boldsymbol{\\mathrm{w}})$\n",
    "\n",
    "Secondly, we set this derivative to zero to find the solution:<br>\n",
    "$- 2 \\boldsymbol{\\mathrm{X}}^T \\boldsymbol{\\mathrm{d}}(\\boldsymbol{\\mathrm{Y}}-\\boldsymbol{\\mathrm{X}}\\boldsymbol{\\mathrm{w}}) = 0$<br>\n",
    "$\\boldsymbol{\\mathrm{X}}^T \\boldsymbol{\\mathrm{d}}(\\boldsymbol{\\mathrm{Y}}-\\boldsymbol{\\mathrm{X}}\\boldsymbol{\\mathrm{w}}) = 0$<br>\n",
    "$\\boldsymbol{\\mathrm{X}}^T \\boldsymbol{\\mathrm{d}}\\boldsymbol{\\mathrm{Y}} - \\boldsymbol{\\mathrm{X}}^T \\boldsymbol{\\mathrm{d}}\\boldsymbol{\\mathrm{X}}\\boldsymbol{\\mathrm{w}} = 0$<br>\n",
    "$\\boldsymbol{\\mathrm{X}}^T \\boldsymbol{\\mathrm{d}}\\boldsymbol{\\mathrm{Y}} = \\boldsymbol{\\mathrm{X}}^T \\boldsymbol{\\mathrm{d}}\\boldsymbol{\\mathrm{X}}\\boldsymbol{\\mathrm{w}}$ <br>\n",
    "$\\hat{\\boldsymbol{\\mathrm{w}}} = (\\boldsymbol{\\mathrm{X}}^T \\boldsymbol{\\mathrm{d}}\\boldsymbol{\\mathrm{X}})^{-1} \\boldsymbol{\\mathrm{X}}^T \\boldsymbol{\\mathrm{d}}\\boldsymbol{\\mathrm{Y}}$"
   ]
  },
  {
   "cell_type": "markdown",
   "metadata": {},
   "source": [
    "### $k$-NN classification\n",
    "\n",
    "Implement a $k$-Nearest neighbors classifier from scratch in Python using only basic matrix operations with `numpy` and `scipy`. Train and evaluate the classifier on the breast cancer dataset, using all features. Show the performance of the classifier for different values of $k$ (plot the results in a graph). Note that for optimal results, you should normalize the features (e.g. to the $[0, 1]$ range or to have a zero mean and unit standard deviation)."
   ]
  },
  {
   "cell_type": "code",
   "execution_count": null,
   "metadata": {},
   "outputs": [],
   "source": [
    "import numpy as np\n",
    "import matplotlib.pyplot as plt\n",
    "from sklearn.datasets import load_diabetes, load_breast_cancer\n",
    "from kNN import *\n",
    "from performance import *\n",
    "\n",
    "# Load data\n",
    "breast_cancer = load_breast_cancer()\n",
    "\n",
    "\"\"\" randomly selecting the train samples still has to be implemented !!\"\"\" \n",
    "# split data into train and test and use all features\n",
    "nr_samples = breast_cancer.data.shape[0]\n",
    "train_frac = 2/3\n",
    "cutoff = round(train_frac*nr_samples)       \n",
    "X_train = breast_cancer.data[:cutoff, :]\n",
    "y_train = breast_cancer.target[:cutoff, np.newaxis]\n",
    "X_test = breast_cancer.data[cutoff:, :]\n",
    "y_test = breast_cancer.target[cutoff:, np.newaxis]\n",
    "\n",
    "# normalize data\n",
    "X_train_n = norm(X_train)\n",
    "X_test_n = norm(X_test)\n",
    "\n",
    "# Calculate mean square error and accuracy for nr_k nearest neighbors\n",
    "nr_k = 40\n",
    "y_pred_k = np.zeros((X_test.shape[0],nr_k))\n",
    "MSE = np.zeros((nr_k))\n",
    "acc = np.zeros((nr_k))\n",
    "for k in range(1,nr_k+1):\n",
    "    for test_sample in range(X_test.shape[0]):\n",
    "        y_pred_k[test_sample,k-1] = pred(X_train_n, y_train, X_test_n[test_sample], k)\n",
    "    y_pred_this_k = y_pred_k[:,k-1]\n",
    "    # reshape y_pred_this_k because it has another shape than y_test\n",
    "    MSE[k-1] = mse(y_test,y_pred_this_k.reshape((y_pred_this_k.shape[0],1)))  \n",
    "    acc[k-1] = accuracy(y_test,y_pred_this_k.reshape((y_pred_this_k.shape[0],1)))\n",
    "\n",
    "\n",
    "# Plot in figure\n",
    "fig = plt.subplots()\n",
    "plt.subplot(1,2,1)\n",
    "plt.plot(np.arange(1,nr_k+1),MSE,marker='o')\n",
    "plt.xlabel('k')\n",
    "plt.ylabel('Mean squared error')\n",
    "plt.subplot(1,2,2)\n",
    "plt.plot(np.arange(1,nr_k+1),acc,marker='*')\n",
    "plt.xlabel('k')\n",
    "plt.ylabel('Accuracy')"
   ]
  },
  {
   "cell_type": "markdown",
   "metadata": {},
   "source": [
    "### $k$-NN regression\n",
    "\n",
    "Modify the $k$-NN implementation to do regression instead of classification. Compare the performance of the linear regression model and the $k$-NN regression model on the diabetes dataset for different values of $k$.."
   ]
  },
  {
   "cell_type": "markdown",
   "metadata": {},
   "source": [
    "### Class-conditional probability\n",
    "\n",
    "Compute and visualize the class-conditional probability (conditional probability where the class label is the conditional variable, i.e. $P(X = x \\mid Y = y)$ for all features in the breast cancer dataset. Assume a Gaussian distribution.\n",
    "\n",
    "<p><font color='#770a0a'>Based on visual analysis of the plots, which individual feature can best discriminate between the two classes? Motivate your answer.</font></p>\n",
    "\n"
   ]
  },
  {
   "cell_type": "code",
   "execution_count": null,
   "metadata": {},
   "outputs": [],
   "source": [
    "import numpy as np\n",
    "import matplotlib.pyplot as plt\n",
    "from sklearn.datasets import load_breast_cancer\n",
    "from scipy.stats import norm\n",
    "from scipy.integrate import quad\n",
    "\n",
    "breast_cancer = load_breast_cancer()\n",
    "nr_samples = breast_cancer.data.shape[0]\n",
    "train_frac = 2/3\n",
    "cutoff = round(train_frac*nr_samples)       \n",
    "X_train = breast_cancer.data[:cutoff, :]\n",
    "y_train = breast_cancer.target[:cutoff, np.newaxis]\n",
    "X_test = breast_cancer.data[cutoff:, :]\n",
    "y_test = breast_cancer.target[cutoff:, np.newaxis]\n",
    "\n",
    "\n",
    "Data = np.append(X_train,y_train,axis=1)\n",
    "Sorted_data = Data[np.argsort(Data[:,30])]\n",
    "locatie = np.where(Sorted_data[:,30] == 1)\n",
    "\n",
    "negData = Sorted_data[0:locatie[0][0],:]\n",
    "posData = Sorted_data[locatie[0][0]:len(Sorted_data),:]\n",
    "\n",
    "\n",
    "fig,ax = plt.subplots(5,6 ,figsize = (30,20))\n",
    "for j in range(5):\n",
    "    for k in range(6):\n",
    "\n",
    "        i = 6*j + k \n",
    "        mean_pos = np.mean(posData[:,i])\n",
    "        std_pos = np.std(posData[:,i])\n",
    "        \n",
    "        mean_neg = np.mean(negData[:,i])\n",
    "        std_neg = np.std(negData[:,i])\n",
    "         \n",
    "        Xmin = min(mean_pos - 3*std_pos,mean_neg - 3*std_neg)\n",
    "        Xmax = max(mean_pos + 3*std_pos,mean_neg + 3*std_neg)\n",
    "        Xaxis = np.linspace(Xmin,Xmax,200)\n",
    "        \n",
    "        pos_gauss = norm.pdf(Xaxis,mean_pos,std_pos)\n",
    "        neg_gauss = norm.pdf(Xaxis,mean_neg,std_neg)\n",
    "        \n",
    "        ax[j,k].plot(Xaxis,pos_gauss,'r')\n",
    "        ax[j,k].fill_between(Xaxis,pos_gauss,color = 'red',alpha = 0.2)\n",
    "        ax[j,k].plot(Xaxis,neg_gauss,'b')\n",
    "        ax[j,k].fill_between(Xaxis,neg_gauss,color = 'blue',alpha = 0.2)       \n",
    "        ax[j,k].set_title(f'feature {i+1}',fontsize = 20)\n",
    "        "
   ]
  },
  {
   "cell_type": "code",
   "execution_count": null,
   "metadata": {},
   "outputs": [],
   "source": []
  }
 ],
 "metadata": {
  "kernelspec": {
   "display_name": "Python 3",
   "language": "python",
   "name": "python3"
  },
  "language_info": {
   "codemirror_mode": {
    "name": "ipython",
    "version": 3
   },
   "file_extension": ".py",
   "mimetype": "text/x-python",
   "name": "python",
   "nbconvert_exporter": "python",
   "pygments_lexer": "ipython3",
   "version": "3.6.10"
  }
 },
 "nbformat": 4,
 "nbformat_minor": 2
}
