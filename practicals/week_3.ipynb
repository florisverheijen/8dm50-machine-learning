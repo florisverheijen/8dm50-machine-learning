{
 "cells": [
  {
   "cell_type": "markdown",
   "metadata": {},
   "source": [
    "# Preliminaries\n",
    "\n",
    "The `pandas` library allows the user several data structures for different data manipulation tasks:\n",
    "1. Data storage through its `Series` and `DataFrame` data structures.\n",
    "2. Data filtering using multiple methods from the package.\n",
    "3. Reading data from many different file formats such as `csv`, `txt`, `xlsx`, ...\n",
    "\n",
    "Below we provide a brief overview of the `pandas` functionalities needed for these exercises. The complete documentation can be found on the [`pandas` website](https://pandas.pydata.org/).\n",
    "\n",
    "## Pandas data structures\n",
    "\n",
    "### Series\n",
    "The Pandas Series data structure is similar to a one-dimensional array. It can store any type of data. The values are mutable but the size not.\n",
    "\n",
    "To create `Series`, we call the `pd.Series()` method and pass an array. A `Series` may also be created from a numpy array."
   ]
  },
  {
   "cell_type": "code",
   "execution_count": 1,
   "metadata": {},
   "outputs": [
    {
     "name": "stdout",
     "output_type": "stream",
     "text": [
      "0       1\n",
      "1      10\n",
      "2     100\n",
      "3    1000\n",
      "dtype: int64\n",
      "\n",
      "\n",
      "0          PSV\n",
      "1         Ajax\n",
      "2    Feyenoord\n",
      "3       Twente\n",
      "dtype: object\n"
     ]
    }
   ],
   "source": [
    "import pandas as pd\n",
    "import numpy as np\n",
    "\n",
    "first_series = pd.Series([1,10,100,1000])\n",
    "\n",
    "print(first_series)\n",
    "\n",
    "teams = np.array(['PSV','Ajax','Feyenoord','Twente'])\n",
    "second_series = pd.Series(teams)\n",
    "\n",
    "print('\\n')\n",
    "print(second_series)"
   ]
  },
  {
   "cell_type": "markdown",
   "metadata": {},
   "source": [
    "### DataFrame\n",
    "One can think of a `DataFrame` as a table with rows and columns (2D structure). The columns can be of a different type (as opposed to `numpy` arrays) and the size of the `DataFrame` is mutable.\n",
    "\n",
    "To create `DataFrame`, we call the `pd.DataFrame()` method and we can create it from scratch or we can convert a numpy array or a list into a `DataFrame`."
   ]
  },
  {
   "cell_type": "code",
   "execution_count": 2,
   "metadata": {},
   "outputs": [
    {
     "name": "stdout",
     "output_type": "stream",
     "text": [
      "From scratch: \n",
      "    Position       Team  GF  GA  Points\n",
      "0         1        PSV  80  30      79\n",
      "1         2       Ajax  75  25      78\n",
      "2         3  Feyenoord  75  40      70\n",
      "3         4     Twente  70  60      66 \n",
      "\n",
      "From list: \n",
      "   Position       Team  GF  GA Points\n",
      "0        1        PSV  80  30     79\n",
      "1        2       Ajax  75  25     78\n",
      "2        3  Feyenoord  75  40     70\n",
      "3        4     Twente  70  60     66 \n",
      "\n",
      "From numpy array: \n",
      "   Position       Team  GF  GA Points\n",
      "0        1        PSV  80  30     79\n",
      "1        2       Ajax  75  25     78\n",
      "2        3  Feyenoord  75  40     70\n",
      "3        4     Twente  70  60     66 \n",
      "\n"
     ]
    }
   ],
   "source": [
    "# DataFrame from scratch\n",
    "first_dataframe = pd.DataFrame({\n",
    "    \"Position\": [1, 2, 3, 4],\n",
    "    \"Team\": ['PSV','Ajax','Feyenoord','Twente'],\n",
    "    \"GF\": [80, 75, 75, 70],\n",
    "    \"GA\": [30, 25, 40, 60],\n",
    "    \"Points\": [79, 78, 70, 66]\n",
    "})\n",
    "\n",
    "print(\"From scratch: \\n {} \\n\".format(first_dataframe))\n",
    "\n",
    "# DataFrme from a list\n",
    "data = [[1, 2, 3, 4], ['PSV','Ajax','Feyenoord','Twente'], \n",
    "        [80, 75, 75, 70], [30, 25, 40, 60], [79, 78, 70, 66]]\n",
    "columns = [\"Position\", \"Team\", \"GF\", \"GA\", \"Points\"]\n",
    "\n",
    "second_dataframe = pd.DataFrame(data, index=columns)\n",
    "\n",
    "print(\"From list: \\n {} \\n\".format(second_dataframe.T)) # the '.T' operator is explained later on\n",
    "\n",
    "# DataFrame from numpy array\n",
    "data = np.array([[1, 2, 3, 4], ['PSV','Ajax','Feyenoord','Twente'], \n",
    "                 [80, 75, 75, 70], [30, 25, 40, 60], [79, 78, 70, 66]])\n",
    "columns = [\"Position\", \"Team\", \"GF\", \"GA\", \"Points\"]\n",
    "\n",
    "third_dataframe = pd.DataFrame(data.T, columns=columns)\n",
    "\n",
    "print(\"From numpy array: \\n {} \\n\".format(third_dataframe))"
   ]
  },
  {
   "cell_type": "markdown",
   "metadata": {},
   "source": [
    "### DataFrame attributes\n",
    "This section gives a quick overview of some of the `pandas.DataFrame` attributes such as `T`, `index`, `columns`, `iloc`, `loc`, `shape` and `values`."
   ]
  },
  {
   "cell_type": "code",
   "execution_count": 3,
   "metadata": {},
   "outputs": [
    {
     "name": "stdout",
     "output_type": "stream",
     "text": [
      "            0     1          2       3\n",
      "Position    1     2          3       4\n",
      "Team      PSV  Ajax  Feyenoord  Twente\n",
      "GF         80    75         75      70\n",
      "GA         30    25         40      60\n",
      "Points     79    78         70      66\n"
     ]
    }
   ],
   "source": [
    "# transpose the index and columns\n",
    "print(third_dataframe.T)"
   ]
  },
  {
   "cell_type": "code",
   "execution_count": 4,
   "metadata": {},
   "outputs": [
    {
     "name": "stdout",
     "output_type": "stream",
     "text": [
      "RangeIndex(start=0, stop=4, step=1)\n"
     ]
    }
   ],
   "source": [
    "# index makes reference to the row labels\n",
    "print(third_dataframe.index)"
   ]
  },
  {
   "cell_type": "code",
   "execution_count": 5,
   "metadata": {},
   "outputs": [
    {
     "name": "stdout",
     "output_type": "stream",
     "text": [
      "Index(['Position', 'Team', 'GF', 'GA', 'Points'], dtype='object')\n"
     ]
    }
   ],
   "source": [
    "# columns makes reference to the column labels\n",
    "print(third_dataframe.columns)"
   ]
  },
  {
   "cell_type": "code",
   "execution_count": 6,
   "metadata": {},
   "outputs": [
    {
     "name": "stdout",
     "output_type": "stream",
     "text": [
      "0          PSV\n",
      "1         Ajax\n",
      "2    Feyenoord\n",
      "3       Twente\n",
      "Name: Team, dtype: object\n"
     ]
    }
   ],
   "source": [
    "# iloc allows to access the index by integer-location (e.g. all team names, which are in the second columm)\n",
    "print(third_dataframe.iloc[:,1])"
   ]
  },
  {
   "cell_type": "code",
   "execution_count": 7,
   "metadata": {},
   "outputs": [
    {
     "name": "stdout",
     "output_type": "stream",
     "text": [
      "PSV\n"
     ]
    }
   ],
   "source": [
    "# loc allows to access the index by label(s)-location (e.g. all team names, which are in the \"Team\" columm)\n",
    "print(third_dataframe.loc[0, 'Team'])"
   ]
  },
  {
   "cell_type": "code",
   "execution_count": 8,
   "metadata": {},
   "outputs": [
    {
     "name": "stdout",
     "output_type": "stream",
     "text": [
      "(4, 5)\n"
     ]
    }
   ],
   "source": [
    "# shape returns a tuple with the DataFrame dimension, similar to numpy\n",
    "print(third_dataframe.shape)"
   ]
  },
  {
   "cell_type": "code",
   "execution_count": 9,
   "metadata": {},
   "outputs": [
    {
     "name": "stdout",
     "output_type": "stream",
     "text": [
      "[['1' 'PSV' '80' '30' '79']\n",
      " ['2' 'Ajax' '75' '25' '78']\n",
      " ['3' 'Feyenoord' '75' '40' '70']\n",
      " ['4' 'Twente' '70' '60' '66']]\n"
     ]
    }
   ],
   "source": [
    "# values return a Numpy representation of the DataFrame data\n",
    "print(third_dataframe.values)"
   ]
  },
  {
   "cell_type": "markdown",
   "metadata": {},
   "source": [
    "### DataFrame methods\n",
    "This section gives a quick overview of some of the `pandas.DataFrame` methods such as `head`, `describe`, `concat`, `groupby`,`rename`, `filter`, `drop` and `isna`. To import data from CSV or MS Excel files, we can make use of `read_csv` and `read_excel`, respectively."
   ]
  },
  {
   "cell_type": "code",
   "execution_count": 10,
   "metadata": {},
   "outputs": [
    {
     "name": "stdout",
     "output_type": "stream",
     "text": [
      "  Position       Team  GF  GA Points\n",
      "0        1        PSV  80  30     79\n",
      "1        2       Ajax  75  25     78\n",
      "2        3  Feyenoord  75  40     70\n",
      "3        4     Twente  70  60     66\n"
     ]
    }
   ],
   "source": [
    "# print the first few rows in your dataset with head()\n",
    "print(third_dataframe.head()) # In this case, it is not very useful because we don't have thousands of rows"
   ]
  },
  {
   "cell_type": "code",
   "execution_count": 11,
   "metadata": {},
   "outputs": [
    {
     "name": "stdout",
     "output_type": "stream",
     "text": [
      "       Position  Team  GF  GA Points\n",
      "count         4     4   4   4      4\n",
      "unique        4     4   3   4      4\n",
      "top           1  Ajax  75  40     78\n",
      "freq          1     1   2   1      1\n"
     ]
    }
   ],
   "source": [
    "# get the summary statistics of the DataFrame with describe()\n",
    "print(third_dataframe.describe())"
   ]
  },
  {
   "cell_type": "code",
   "execution_count": 12,
   "metadata": {},
   "outputs": [
    {
     "name": "stdout",
     "output_type": "stream",
     "text": [
      "  Position  Team  GF  GA Points\n",
      "0        1   PSV  80  30     79\n",
      "1        2  Ajax  75  25     78\n",
      "\n",
      "\n",
      "  Position       Team  GF  GA Points\n",
      "2        3  Feyenoord  75  40     70\n",
      "3        4     Twente  70  60     66\n",
      "\n",
      "\n",
      "  Position       Team  GF  GA Points\n",
      "0        1        PSV  80  30     79\n",
      "1        2       Ajax  75  25     78\n",
      "2        3  Feyenoord  75  40     70\n",
      "3        4     Twente  70  60     66\n"
     ]
    }
   ],
   "source": [
    "# concatenate (join) DataFrame objects using concat()\n",
    "\n",
    "# first, we will split the above DataFrame in two different ones\n",
    "df_a = third_dataframe.loc[[0,1],:]\n",
    "df_b = third_dataframe.loc[[2,3],:]\n",
    "\n",
    "print(df_a)\n",
    "print('\\n')\n",
    "\n",
    "print(df_b)\n",
    "print('\\n')\n",
    "\n",
    "# now, we concatenate both datasets\n",
    "df = pd.concat([df_a, df_b])\n",
    "\n",
    "print(df)"
   ]
  },
  {
   "cell_type": "code",
   "execution_count": 13,
   "metadata": {},
   "outputs": [
    {
     "name": "stdout",
     "output_type": "stream",
     "text": [
      "  Position       Team  GF  GA Points\n",
      "1        2       Ajax  75  25     78\n",
      "2        3  Feyenoord  75  40     70\n"
     ]
    }
   ],
   "source": [
    "# group the data by certain variable via groupby()\n",
    "# here, we have grouped the data by goals for, which in this case is 75\n",
    "\n",
    "group = df.groupby('GF')\n",
    "\n",
    "print(group.get_group('75'))"
   ]
  },
  {
   "cell_type": "code",
   "execution_count": 14,
   "metadata": {},
   "outputs": [
    {
     "name": "stdout",
     "output_type": "stream",
     "text": [
      "  Pos       Club  GF  GA Points\n",
      "0   1        PSV  80  30     79\n",
      "1   2       Ajax  75  25     78\n",
      "2   3  Feyenoord  75  40     70\n",
      "3   4     Twente  70  60     66\n"
     ]
    }
   ],
   "source": [
    "# rename() helps you change the column or index names\n",
    "print(df.rename(columns={'Position':'Pos','Team':'Club'}))"
   ]
  },
  {
   "cell_type": "code",
   "execution_count": 15,
   "metadata": {},
   "outputs": [
    {
     "name": "stdout",
     "output_type": "stream",
     "text": [
      "        Team Points\n",
      "0        PSV     79\n",
      "1       Ajax     78\n",
      "2  Feyenoord     70\n",
      "3     Twente     66\n"
     ]
    }
   ],
   "source": [
    "# build a subset of rows or columns of your dataset according to labels via filter()\n",
    "# here, items refer to the variable names: 'Team' and 'Points'; to select columns, we specify axis=1\n",
    "print(df.filter(items=['Team', 'Points'], axis=1))"
   ]
  },
  {
   "cell_type": "code",
   "execution_count": 16,
   "metadata": {},
   "outputs": [
    {
     "name": "stdout",
     "output_type": "stream",
     "text": [
      "  Position       Team Points\n",
      "0        1        PSV     79\n",
      "1        2       Ajax     78\n",
      "2        3  Feyenoord     70\n",
      "3        4     Twente     66\n"
     ]
    }
   ],
   "source": [
    "# dropping some labels\n",
    "print(df.drop(columns=['GF', 'GA']))"
   ]
  },
  {
   "cell_type": "code",
   "execution_count": 17,
   "metadata": {},
   "outputs": [
    {
     "name": "stdout",
     "output_type": "stream",
     "text": [
      "   Position   Team     GF     GA  Points\n",
      "0     False  False  False  False   False\n",
      "1     False  False  False  False   False\n",
      "2     False  False  False  False   False\n",
      "3     False  False  False  False   False\n",
      "\n",
      "\n",
      "  Position       Team  GF  GA Points     W\n",
      "0        1        PSV  80  30     79   NaN\n",
      "1        2       Ajax  75  25     78  25.0\n",
      "2        3  Feyenoord  75  40     70  24.0\n",
      "3        4     Twente  70  60     66  19.0\n",
      "\n",
      "\n",
      "   Position   Team     GF     GA  Points      W\n",
      "0     False  False  False  False   False   True\n",
      "1     False  False  False  False   False  False\n",
      "2     False  False  False  False   False  False\n",
      "3     False  False  False  False   False  False\n"
     ]
    }
   ],
   "source": [
    "# search for NA (not available) entries in the DataFrame\n",
    "print(df.isna()) # No NA values\n",
    "print('\\n')\n",
    "\n",
    "# create a pandas Series with a NA value\n",
    "# the Series as W (winnin matches)\n",
    "tmp = pd.Series([np.NaN, 25, 24, 19],  name=\"W\")\n",
    "\n",
    "# concatenate the Series with the DataFrame\n",
    "df = pd.concat([df,tmp], axis = 1)\n",
    "print(df)\n",
    "print('\\n')\n",
    "\n",
    "# again, check for NA entries\n",
    "print(df.isna())"
   ]
  },
  {
   "cell_type": "markdown",
   "metadata": {},
   "source": [
    "## Dataset\n",
    "\n",
    "For this week exercises we will use a dataset from the Genomics of Drug Sensitivity in Cancer (GDSC) project (https://www.cancerrxgene.org/). In this study (['Iorio et al., Cell, 2016']()), 265 compounds were tested on 1001 cancer cell lines for which different types of -omics data (RNA expression, DNA methylation, Copy Number Alteration, DNA sequencing) are available. This is a valuable resource to look for biomarkers of drugs sensitivity in order to try to understand why cancer patients responds very differently to cancer drugs and find ways to assign the optimal treatment to each patient.\n",
    "\n",
    "For this exercise we will use a subset of the data, focusing the response to the drug YM155 (Sepantronium bromide) on four cancer types, for a total of 148 cancer cell lines.\n",
    "\n",
    "| ID          | Cancer type                      |\n",
    "|-------------|----------------------------------|\n",
    "|   COAD/READ | Colorectal adenocarcinoma        |\n",
    "|   NB        | Neuroblastoma                    |\n",
    "|   KIRC      | Kidney renal clear cell carcinoma|\n",
    "|   BRCA      | Breast carcinoma                 |\n",
    "\n",
    "We will use the RNA expression data (RMA normalised). Only genes with high variability across cell lines (variance > 5, resulting in 238 genes) have been kept.\n",
    "\n",
    "Drugs have been tested at different concentration, measuring each time the viability of the cells. Drug sensitivity is measured using the natural log of the fitted IC50 metric, which is defined as the half maximal inhibitory concentration. A lower IC50 corresponds to a more sensitive cell line because a lower amount of drug is sufficient to have a strong response, while a higher IC50 corresponds to a more resistant cell line because more drug is needed for killing the cells.\n",
    "\n",
    "Based on the IC50 metric, cells can be classified as sensitive or resistant. The classification is done by computing the $z$-score across all cell lines in the GDSC for each drug, and considering as sensitive the ones with $z$-score < 0 and resistant the ones with $z$-score > 0.\n",
    "\n",
    "The dataset is originally provided as 3 files ([original source](https://www.sciencedirect.com/science/article/pii/S0092867416307462?via%3Dihub)) :\n",
    "\n",
    "`GDSC_RNA_expression.csv`: gene expression matrix with the cell lines in the rows (148) and the genes in the columns (238).\n",
    "\n",
    "`GDSC_drug_response.csv`: vector with the cell lines response to the drug YM155 in terms of log(IC50) and as classification in sensitive or resistant.\n",
    "\n",
    "`GDSC_metadata.csv`: metadata for the 148 cell lines including name, COSMIC ID and tumor type (using the classification from ['The Cancer Genome Atlas TCGA'](https://www.cancer.gov/about-nci/organization/ccg/research/structural-genomics/tcga))\n",
    "\n",
    "For convenience, we provide the data already curated.\n",
    "\n",
    "`RNA_expression_curated.csv`: [148 cell lines , 238 genes]\n",
    "\n",
    "`drug_response_curated.csv`: [148 cell lines , YM155 drug]\n",
    "\n",
    "The curated data cam be read as `pandas` `DataFrame`s in the following way:"
   ]
  },
  {
   "cell_type": "code",
   "execution_count": 18,
   "metadata": {},
   "outputs": [
    {
     "name": "stdout",
     "output_type": "stream",
     "text": [
      "(148, 238)\n",
      "            TFPI    TFAP2B      MGST1     PRSS3      ISL1     SNAI2  SERPINB1  \\\n",
      "949176  7.166555  2.795512   7.917741  9.466787  8.436305  9.500610  7.380575   \n",
      "749714  9.084584  2.693997  12.199084  2.975566  3.479229  8.489317  8.500992   \n",
      "\n",
      "              VIM      CD44      VCAN  ...     PSMB8     HSPA1A  SERPINB5  \\\n",
      "949176  13.073855  3.374265  9.332068  ...  4.338325   3.193308   3.23194   \n",
      "749714   5.631460  7.950032  2.845233  ...  9.492377  11.628330   7.90218   \n",
      "\n",
      "           MLLT11  AKR1B10P1       UCA1   MIR205HG     PHGR1      HLA-B  \\\n",
      "949176  10.828382   2.977182   3.694196   3.056695  2.714666   5.156024   \n",
      "749714   3.568167   7.806236  12.332383  11.264508  3.405150  11.842518   \n",
      "\n",
      "           SEPP1  \n",
      "949176  9.426053  \n",
      "749714  6.269068  \n",
      "\n",
      "[2 rows x 238 columns]\n",
      "\n",
      "\n",
      "[[ 0.42 -4.31 -4.8  -0.88  1.82 -1.47 -4.96 -5.94 -3.08 -4.02 -2.71 -3.66\n",
      "   2.36 -5.53 -5.38 -4.49 -4.26 -5.7   0.19 -2.55  0.33 -4.89 -5.67 -3.23\n",
      "  -5.61  2.15 -0.92  3.25 -5.51 -3.42  0.61 -5.82 -1.46 -0.22 -1.51  0.98\n",
      "  -5.89 -4.78 -4.49  0.09 -5.65 -4.45 -3.58  1.22 -5.81 -4.5  -4.89  1.92\n",
      "  -3.59 -1.45 -2.53 -4.62 -3.54 -2.33 -4.86 -0.74 -3.46 -5.52 -3.06 -3.16\n",
      "  -5.12 -5.31 -5.29 -2.89 -3.44 -4.99 -1.21 -5.94  4.87 -5.44  1.91  0.73\n",
      "  -2.11 -4.91 -1.15 -2.28 -3.41 -1.79 -5.84 -2.25  0.26 -5.35 -3.52  0.24\n",
      "  -2.39 -6.15  0.25 -3.26  0.81 -4.56 -1.69 -3.34 -5.25 -5.85  1.26 -4.68\n",
      "  -5.73 -0.65 -5.74 -5.1  -5.74 -1.25  0.76 -6.33 -3.49  1.95 -5.3  -4.09\n",
      "   2.13 -3.   -3.92 -1.76  3.17 -5.96 -2.55 -5.04 -5.44 -2.43  3.97 -1.84\n",
      "   5.14  0.35 -4.68 -5.13 -4.47 -2.94 -2.66 -2.17 -5.95 -5.11 -0.33  4.39\n",
      "   1.24 -4.96 -1.1  -1.84 -4.35 -1.09 -3.   -2.76  1.36  2.18 -4.08 -0.88\n",
      "  -4.12 -2.92 -4.72  0.43]]\n",
      "\n",
      "\n",
      "(148, 1)\n",
      "         YM155\n",
      "949176    0.42\n",
      "749714   -4.31\n",
      "749709   -4.80\n",
      "1660034  -0.88\n"
     ]
    }
   ],
   "source": [
    "import pandas as pd\n",
    "\n",
    "gene_expression = pd.read_csv(\"./data/RNA_expression_curated.csv\", sep=',', header=0, index_col=0)\n",
    "drug_response = pd.read_csv(\"./data/drug_response_curated.csv\", sep=',', header=0, index_col=0)\n",
    "\n",
    "print(gene_expression.shape)\n",
    "pp = gene_expression.iloc[0:2,:]\n",
    "print(pp)\n",
    "print('\\n')\n",
    "print(drug_response.values.T)\n",
    "\n",
    "print('\\n')\n",
    "print(drug_response.shape)\n",
    "print(drug_response.iloc[0:4])"
   ]
  },
  {
   "cell_type": "markdown",
   "metadata": {},
   "source": [
    "You can use the `DataFrame`s directly as inputs to the the `sklearn` models. The advantage over using `numpy` arrays is that the variable are annotated, i.e. each input and output has a name."
   ]
  },
  {
   "cell_type": "markdown",
   "metadata": {},
   "source": [
    "## Tools\n",
    "The `scikit-learn` library provides the required tools for linear regression/classification and shrinkage, as well as for logistic regression."
   ]
  },
  {
   "cell_type": "code",
   "execution_count": 19,
   "metadata": {},
   "outputs": [],
   "source": [
    "from sklearn.linear_model import LinearRegression\n",
    "from sklearn.linear_model import Ridge\n",
    "from sklearn.linear_model import Lasso, LassoCV\n",
    "from sklearn.linear_model import LogisticRegression"
   ]
  },
  {
   "cell_type": "markdown",
   "metadata": {},
   "source": [
    "Note that the notation used for the hyperparameters in the `scikit-learn` library is different from the one used in the lecture. More specifically, in the lecture $\\alpha$ is the tunable parameter to select the compromise between Ridge and Lasso. Whereas, `scikit-learn` library refers to `alpha` as the tunable parameter $\\lambda$. Please check the documentation for more details."
   ]
  },
  {
   "cell_type": "markdown",
   "metadata": {},
   "source": [
    "# Exercises\n",
    "\n",
    "## Selection of the hyperparameter\n",
    "\n",
    "Implement cross-validation (using `sklearn.grid_search.GridSearchCV`) to select the `alpha` hyperparameter of `sklearn.linear_model.Lasso`. \n",
    "\n",
    "\n"
   ]
  },
  {
   "cell_type": "code",
   "execution_count": 20,
   "metadata": {},
   "outputs": [
    {
     "data": {
      "image/png": "[encoded data removed]",
      "text/plain": [
       "<Figure size 504x360 with 1 Axes>"
      ]
     },
     "metadata": {
      "needs_background": "light"
     },
     "output_type": "display_data"
    },
    {
     "name": "stdout",
     "output_type": "stream",
     "text": [
      "Best parameter:  {'alpha': 0.44984326689694465}\n"
     ]
    }
   ],
   "source": [
    "from sklearn.model_selection import GridSearchCV\n",
    "import numpy as np\n",
    "from sklearn.model_selection import train_test_split\n",
    "import matplotlib.pyplot as plt\n",
    "from sklearn.preprocessing import StandardScaler\n",
    "\n",
    "# get values of de pandas Dataframes\n",
    "X = gene_expression.values\n",
    "y = drug_response.values\n",
    "\n",
    "# split data in train and test set\n",
    "# random state ensures that the split is reproducible, so each time you run the train and test set will be the same\n",
    "X_train, X_test, y_train, y_test = train_test_split(X, y, test_size=0.2, random_state=42)\n",
    "\n",
    "# standardize X values\n",
    "scaler = StandardScaler()\n",
    "scaler.fit(X_train)\n",
    "X_train_s = scaler.transform(X_train)\n",
    "\n",
    "# define parameters for Lasso regression\n",
    "lasso = Lasso(random_state = 0, max_iter = 10000)\n",
    "alphas = np.logspace(-2,1,50)\n",
    "tuned_parameters = [{'alpha':alphas}]\n",
    "n_folds = 5\n",
    "\n",
    "# perform gridsearch on all parameters alpha and fit model\n",
    "grid = GridSearchCV(lasso,tuned_parameters, cv = n_folds)\n",
    "grid.fit(X_train_s,y_train)\n",
    "\n",
    "# get mean test score and standard deviation on all samples\n",
    "scores = grid.cv_results_['mean_test_score']    \n",
    "scores_std = grid.cv_results_['std_test_score']\n",
    "\n",
    "# plot results\n",
    "plt.figure().set_size_inches(7, 5)\n",
    "plt.semilogx(alphas, scores) # plot mean test score for all alphas \n",
    "\n",
    "# plot error lines showing +/- std. errors of the scores\n",
    "std_error = scores_std / np.sqrt(n_folds)\n",
    "plt.semilogx(alphas, scores + std_error, 'b--')\n",
    "plt.semilogx(alphas, scores - std_error, 'b--')\n",
    "\n",
    "plt.ylabel('mean test score +/- std',fontsize=14)\n",
    "plt.xlabel('log(alpha)',fontsize=14)\n",
    "\n",
    "# alpha=0.2 controls the translucency of the fill color\n",
    "plt.fill_between(alphas, scores + std_error, scores - std_error, alpha=0.2)\n",
    "\n",
    "plt.show()\n",
    "\n",
    "print(\"Best parameter: \", grid.best_params_)\n",
    "\n",
    "# refitting on the best parameter alpha\n",
    "best_model = grid.best_estimator_\n",
    "y_pred = best_model.fit(X_train_s,y_train).predict(X_test) # perform fitting and predicting in one step"
   ]
  },
  {
   "cell_type": "markdown",
   "metadata": {},
   "source": [
    "## Feature selection\n",
    "\n",
    "Look at the features selected using the hyperparameter which corresponds to the minimum cross-validation error.\n"
   ]
  },
  {
   "cell_type": "code",
   "execution_count": 21,
   "metadata": {},
   "outputs": [
    {
     "name": "stdout",
     "output_type": "stream",
     "text": [
      "The most relevant features for alpha with the minimum cross-validation error, are: ['ABCB1' 'CDH17' 'FABP1' 'SELENBP1' 'PRSS3']\n"
     ]
    }
   ],
   "source": [
    "# fit model with best found value for alpha, so with minimum cross-validation error\n",
    "yr_train = np.ravel(y_train)\n",
    "clf = Lasso(alpha = list(grid.best_params_.values())).fit(X_train_s, yr_train)\n",
    "\n",
    "# the features with the highest coef_ are most important\n",
    "importance = np.abs(clf.coef_)\n",
    "\n",
    "# get the indices of nr_imp most important features\n",
    "nr_imp = 5\n",
    "imp_index = (-importance).argsort() # sort at descending importance, so the first ones have the highest importance\n",
    "i_most_imp_features = imp_index[:nr_imp]\n",
    "\n",
    "# get all feature names\n",
    "feature_names = gene_expression.columns\n",
    "# print feature names of nr_imp features\n",
    "most_imp_features = np.array(feature_names[i_most_imp_features])\n",
    "print('The most relevant features for alpha with the minimum cross-validation error, are: {}'.format(most_imp_features))"
   ]
  },
  {
   "cell_type": "markdown",
   "metadata": {},
   "source": [
    "<p><font color='#770a0a'>Is the partition in training and validation sets playing a role in the selection of the hyperparameter? How will this affect the selection of the relevant features?</font></p>"
   ]
  },
  {
   "cell_type": "code",
   "execution_count": 22,
   "metadata": {},
   "outputs": [
    {
     "name": "stdout",
     "output_type": "stream",
     "text": [
      "[fold 0] alpha: 0.2947, score: 0.3423\n",
      "[fold 1] alpha: 0.4498, score: 0.2523\n",
      "[fold 2] alpha: 0.7906, score: 0.3452\n",
      "[fold 3] alpha: 1.0481, score: 0.3355\n",
      "[fold 4] alpha: 1.0481, score: 0.2952\n",
      "[fold 5] alpha: 1.2068, score: 0.1758\n",
      "[fold 6] alpha: 0.7906, score: 0.0923\n"
     ]
    }
   ],
   "source": [
    "from sklearn.model_selection import KFold\n",
    "\n",
    "# Use k-fold cross validation to check whether the obtained 'best' value for alpha is independent\n",
    "# of the train/test division, so for different subsets of the data\n",
    "lasso_cv = LassoCV(alphas=alphas, random_state=0, max_iter=10000)\n",
    "nr_k = 7\n",
    "k_fold = KFold(nr_k)\n",
    "\n",
    "alpha_list = []\n",
    "data = [[] for _ in range(nr_k)] \n",
    "nz_coef = [0] * nr_k\n",
    "for k, (train, test) in enumerate(k_fold.split(X, y)):\n",
    "    yr = np.ravel(y) # reshape y from column-vector to 1d array\n",
    "    lasso_cv.fit(X[train], yr[train])\n",
    "    alpha_k = lasso_cv.alpha_\n",
    "    alpha_list.append(alpha_k)\n",
    "    print(\"[fold {0}] alpha: {1:.4f}, score: {2:.4f}\".\n",
    "          format(k, alpha_k, lasso_cv.score(X[test], yr[test])))\n",
    "\n",
    "    clf = Lasso(alpha = alpha_k).fit(X[train], yr[train])\n",
    "    importance = np.abs(clf.coef_)\n",
    "\n",
    "    # get the indices of nr_imp most important features\n",
    "    imp_index = (-importance).argsort() # sort at descending importance, so the first ones have the highest importance\n",
    "    i_most_imp_features = imp_index[:nr_imp]\n",
    "\n",
    "    # get feature names\n",
    "    feature_names = gene_expression.columns\n",
    "    most_imp_features = np.array(feature_names[i_most_imp_features])\n",
    "\n",
    "    # store data for DataFrame\n",
    "    data[k].append(most_imp_features)\n",
    "    nz_coef[k] = np.array(np.nonzero(importance)).shape[1]\n",
    "\n"
   ]
  },
  {
   "cell_type": "code",
   "execution_count": 23,
   "metadata": {},
   "outputs": [
    {
     "name": "stdout",
     "output_type": "stream",
     "text": [
      "      alpha  Nonzero coefficients                       Most relevant features\n",
      "0  0.294705                    49         [[ABCB1, IER3, RNF128, SEPP1, MYLK]]\n",
      "1  0.449843                    30    [[ABCB1, AKR1C3, TACSTD2, SFN, SELENBP1]]\n",
      "2  0.790604                     8        [[ABCB1, FABP1, AKR1C3, GAL, TSPAN8]]\n",
      "3   1.04811                     6        [[ABCB1, TSPAN8, CDX2, TACSTD2, GAL]]\n",
      "4   1.04811                     5     [[ABCB1, FABP1, TSPAN8, PHGR1, TACSTD2]]\n",
      "5   1.20679                     3    [[ABCB1, TSPAN8, TACSTD2, ELAVL4, INHBB]]\n",
      "6  0.790604                     9  [[ABCB1, FABP1, TSPAN8, TACSTD2, SELENBP1]]\n"
     ]
    }
   ],
   "source": [
    "# create DataFrame\n",
    "data_df = [alpha_list, nz_coef, data]\n",
    "columns = [\"alpha\", \" Nonzero coefficients\", \"Most relevant features\"]\n",
    "\n",
    "second_dataframe = pd.DataFrame(data_df, index=columns)\n",
    "\n",
    "print(second_dataframe.T)"
   ]
  },
  {
   "cell_type": "markdown",
   "metadata": {},
   "source": [
    "Concluding, different subsets of test and train data lead to different values for $\\alpha$ that are optimal and the resulting scores differ a lot respectively. The selected $\\alpha$ can thus not be trusted completely. Subsequently, a different value for hyperparameter $\\alpha$ leads to other features that are selected as most relevant. Since feature ABCB1 is in all folds first in the list of most relevant features, which means that it has the highest coefficient in all folds, it can be said that this feature is most relevant. Additionally, it can be seen in the dataframe that the number of nonzero Lasso regression coefficients is higher for lower $\\alpha$, so the number of coefficients set to zero is higher for higher $\\alpha$. \n",
    "<br>\n",
    "<br>\n",
    "\n",
    "<p><font color='#770a0a'>Should the value of the intercept also be shrunk to zero with Lasso and Ridge regression? Motivate your answer.</font></p>\n",
    "The idea of Lasso or Ridge regularization is to shrink the regression coefficients by imposing a penalty term on their size. Otherwise, very large values for $\\beta$ that will be multiplied with the feature values are possibly chosen which leads to overfitting. For $\\beta_0$, it is not possible to have an extraordinary large value because then, the model does not fit the data anymore. It is thus not necessary to also shrunk the value of the intercept to zero.\n",
    "\n",
    "\n",
    "## Bias-variance \n",
    "\n",
    "Show the effect of the regularization on the parameter estimates in terms of bias and variance. For this you can repeat the optimization 100 times using bootstrap and visualise the profile of the Lasso regression coefficient over a grid of the hyperparameter, optionally including the variability as error bars.\n",
    "\n",
    "<p><font color='#770a0a'>Based on the visual analysis of the plot, what are your observation on bias and variance in relation to model complexity? Motivate your answer.</font></p>"
   ]
  },
  {
   "cell_type": "code",
   "execution_count": 45,
   "metadata": {},
   "outputs": [
    {
     "name": "stdout",
     "output_type": "stream",
     "text": [
      "0\n",
      "[[ 15  24  90 129 155 209 218]]\n",
      "[[0.03900336 0.41297618 0.07343296 0.02749609 0.07541125 0.02703568\n",
      "  0.03456268]]\n",
      "1\n",
      "[[  3  15  20  24  90 155 161 209 218]]\n",
      "[[0.00531822 0.0189699  0.00050985 0.37552867 0.08782052 0.11737518\n",
      "  0.01345657 0.05305507 0.04143435]]\n",
      "2\n",
      "[[ 15  24  90 129 155 163 197 209 218]]\n",
      "[[0.00468239 0.3842158  0.0741685  0.05077788 0.09035856 0.00444946\n",
      "  0.00883397 0.087303   0.03058305]]\n",
      "3\n",
      "[[ 15  24  90 129 145 155 209 218]]\n",
      "[[0.05091209 0.44390457 0.07433475 0.04617381 0.01892752 0.06451119\n",
      "  0.03371676 0.0712233 ]]\n",
      "4\n",
      "[[ 15  24  90 145 155 163 209 218]]\n",
      "[[0.06101612 0.39373578 0.03187092 0.07017162 0.01246949 0.08116669\n",
      "  0.06898285 0.0283425 ]]\n",
      "5\n",
      "[[ 15  24  90 129 141 155 163 209 218]]\n",
      "[[0.00085743 0.48552172 0.07863891 0.03444901 0.00194196 0.04980206\n",
      "  0.00823906 0.01299274 0.07527509]]\n",
      "6\n",
      "[[ 15  24  90 129 155 163 208 209]]\n",
      "[[0.00378726 0.43167504 0.06826371 0.01349171 0.12048392 0.00379671\n",
      "  0.00057202 0.02711328]]\n",
      "7\n",
      "[[ 15  24  90 100 129 155 161 191 209]]\n",
      "[[0.00690432 0.45632715 0.13742368 0.00510886 0.02042772 0.01854035\n",
      "  0.01083916 0.00297653 0.02622608]]\n",
      "8\n",
      "[[ 15  24  39  90 104 129 155 209 218]]\n",
      "[[0.01943071 0.39184499 0.00612138 0.11813891 0.01886071 0.01846334\n",
      "  0.073889   0.02703347 0.01623986]]\n",
      "9\n",
      "[[ 15  24  90 129 155 209 218]]\n",
      "[[0.01463318 0.4311967  0.10310954 0.05330832 0.09376357 0.06812574\n",
      "  0.02803061]]\n"
     ]
    },
    {
     "data": {
      "image/png": "[encoded data removed]",
      "text/plain": [
       "<Figure size 432x288 with 1 Axes>"
      ]
     },
     "metadata": {
      "needs_background": "light"
     },
     "output_type": "display_data"
    }
   ],
   "source": [
    "# repeat optimization M times using k-fold cross validation (bootstrap)\n",
    "# feature selection procedure is repeated M times, using every time a different bootstrapped dataset\n",
    "M = 10\n",
    "k_fold = KFold(M)\n",
    "\n",
    "labdas = np.logspace(10,238, 10)\n",
    "coefs = []\n",
    "\n",
    "for k, (train, test) in enumerate(k_fold.split(X, y)): #enumerate()function assigns an index to each item in an iterable object that can be used to reference the item later.\n",
    "    yr = np.ravel(y) # reshape y from column-vector to 1d array\n",
    "    lasso_cv.fit(X[train], yr[train])\n",
    "    \n",
    "    clf = Lasso(alpha = alpha_k).fit(X[train], yr[train])\n",
    "    importance = np.abs(clf.coef_)\n",
    "    coefs.append(clf.coef_)\n",
    "\n",
    "    \n",
    "    print (k)\n",
    "    print(np.array(np.nonzero(importance)))\n",
    "    print(importance[np.array(np.nonzero(importance))])\n",
    "\n",
    "clf.get_params()\n",
    "\n",
    "#plot maken\n",
    "\n",
    "ax = plt.gca()\n",
    "\n",
    "ax.plot(labdas, coefs)\n",
    "ax.set_xscale('log')\n",
    "ax.set_xlim(ax.get_xlim()[::-1])  # reverse axis\n",
    "plt.xlabel('labda')\n",
    "plt.ylabel('coefficients')\n",
    "plt.title('Lasso coefficients as a function of the regularization')\n",
    "plt.axis('tight')\n",
    "plt.show()\n",
    "\n"
   ]
  },
  {
   "cell_type": "code",
   "execution_count": 28,
   "metadata": {},
   "outputs": [
    {
     "name": "stdout",
     "output_type": "stream",
     "text": [
      "[[1.55233266e-03 4.42139885e-01 1.33577932e-02 1.13999561e-01\n",
      "  2.05488041e-02 4.13530760e-02 1.34292379e-01 6.17007534e-02\n",
      "  2.26008824e-05]]\n"
     ]
    }
   ],
   "source": [
    "print(importance[np.array(np.nonzero(importance))])"
   ]
  },
  {
   "cell_type": "markdown",
   "metadata": {},
   "source": [
    "## Logistic regression\n",
    "\n",
    "<p><font color='#770a0a'>Write the expression of the objective function for the penalized logistic regression with $L_1$ and $L_2$ regularisation (as in Elastic net).</font></p>"
   ]
  },
  {
   "cell_type": "markdown",
   "metadata": {},
   "source": [
    "***Answer***\n",
    "\n",
    "<br>\n",
    "$L_1$ and $L_2$ regularisation (as in Elastic net) provides a compromise between Rigde and Lasso. This penalty has the form: \n",
    "\n",
    "$\\large\\lambda\\sum\\limits_{j=1}^{P} (\\alpha\\beta_j^2 + (1 - \\alpha)|\\beta_j|))$\n",
    "\n",
    "The second term of the sum encourages highly correlated features to be averaged, while the first term encourages a sparse solution in the coefficients of these averaged features. \n",
    "\n",
    "<br>\n",
    "Adding this penalty to the loss function of logistic regression gives the function for penalized logistic regression with $L_1$ and $L_2$ regularisation\n",
    "\n",
    "$max(\\sum\\limits_{i=1}^{n} (y_i - \\sum\\limits_{j=i}^{p}(x_{ij}\\beta_j)^2)) + \\lambda\\sum\\limits_{j=1}^{P} (\\alpha\\beta_j^2 + (1 - \\alpha)|\\beta_j|)) $\n",
    "\n",
    "\n",
    "\n"
   ]
  },
  {
   "cell_type": "code",
   "execution_count": null,
   "metadata": {},
   "outputs": [],
   "source": []
  }
 ],
 "metadata": {
  "kernelspec": {
   "display_name": "Python 3",
   "language": "python",
   "name": "python3"
  },
  "language_info": {
   "codemirror_mode": {
    "name": "ipython",
    "version": 3
   },
   "file_extension": ".py",
   "mimetype": "text/x-python",
   "name": "python",
   "nbconvert_exporter": "python",
   "pygments_lexer": "ipython3",
   "version": "3.6.10"
  }
 },
 "nbformat": 4,
 "nbformat_minor": 2
}
